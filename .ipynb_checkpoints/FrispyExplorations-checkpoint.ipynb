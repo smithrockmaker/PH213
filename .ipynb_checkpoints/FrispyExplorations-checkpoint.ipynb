{
 "cells": [
  {
   "cell_type": "markdown",
   "id": "4bcd47ba-8edb-4013-a322-945a4ec20db1",
   "metadata": {},
   "source": [
    "## FrisPy and Object Oriented Python:\n",
    "\n",
    "Way too much that I am having to figure out here. I can practically feel the neurons screaming in my brain. It's clear that I haven't spent enough time working in the world of object oriented code though it has crossed my path without me really realizing it. To sort out how this all works FrisPy is a good example. It is a lightly documented python package that can provide me with plenty of learning experiences. \n",
    "\n",
    "This notebook will be dedicated to sorting out what the documentation means and I will use a parallel notebook - FrispyExplorationsII.ipynb - to build examples of the output of the process.\n"
   ]
  },
  {
   "cell_type": "markdown",
   "id": "4e15afa6-9132-4f66-b2d5-45cf78bc9fde",
   "metadata": {},
   "source": [
    "### References\n",
    "\n",
    "The [github for this project](https://github.com/tmcclintock/FrisPy) is linked. Here is the [web documentation](https://frispy.readthedocs.io/en/latest/autoapi/frispy/index.html). I suspect my biggest challenge is just that I still very unclear about the object oriented stuff. This will hopefully be my opportunity to grow my understanding.\n",
    "\n",
    "This is a project from Tom McClintock. Tom was a graduate student at the University of Arizona working on computational modeling of galaxy formation and dark matter among many other topics. The [Aemulus Project](https://aemulusproject.github.io/people.html) is an example of his work. It appears that he is now working as a quantitative researcher for a financial firm (Susquehanna International Group) in San Francisco. Not an uncommon path for computational physicists. Here is[Tom's Frisbee article](https://www.wildcat.arizona.edu/article/2015/09/grad-student-figures-out-frisbee-physics) from when he was a student at UA. \n",
    "\n",
    "#### Learning about web scrapers:\n",
    "\n",
    "I noticed that all the email addresses on the Aemulus project page are written out this way - tmcclintock89 at gmail dot com. It seemed likely that this is a strategy for making email addresses on public pages less visible to bots which are seeking to build up email addresses for large lists. A little quick searching confirms that this is the case."
   ]
  },
  {
   "cell_type": "markdown",
   "id": "dc6353ef-c6e6-4819-a7f6-3a09e2633ad0",
   "metadata": {},
   "source": [
    "### Installation\n",
    "\n",
    "To install the frispy package I opened a terminal window in Jupyterlab and did a pip intall of frispy. This assures that it is in the right place for Jupyterlab to find it. This can be verified by importing the package and seeing that it works."
   ]
  },
  {
   "cell_type": "code",
   "execution_count": 2,
   "id": "c80634eb-ae16-4683-b224-cea9d536661d",
   "metadata": {},
   "outputs": [],
   "source": [
    "import frispy"
   ]
  },
  {
   "cell_type": "markdown",
   "id": "2d56b8ba-68c0-45fa-82fb-8d3f2473c0d6",
   "metadata": {},
   "source": [
    "### Big Picture\n",
    "\n",
    "When we generate an instance of frispy.Disc() the package takes all of the established features of the disc and the initial conditions"
   ]
  },
  {
   "cell_type": "markdown",
   "id": "694efa34-8a7d-4dc3-a7c5-eead9c8553c7",
   "metadata": {},
   "source": [
    "### Exploring:\n",
    "\n",
    "``` \n",
    "dir(frispy)\n",
    "```\n",
    "\n",
    "This displays all the names that are part of the frispy.py. If we look at [Tim's github](https://github.com/tmcclintock/FrisPy/tree/master/frispy) for this project we see that the first 5 entries in this list are the 5 modules in the frispy package. I note with interest that the wind module has not been implemented yet though the structure of the module has been established. The following in the __init__.py which is what, I assume, builds the package.\n",
    "\n",
    "```\n",
    "\n",
    "from .disc import Disc\n",
    "from .environment import Environment\n",
    "from .equations_of_motion import EOM\n",
    "from .model import Model\n",
    "from .trajectory import Trajectory\n",
    "\n",
    "__author__ = \"Tom McClintock thmsmcclintock@gmail.com\"\n",
    "__version__ = \"1.0.4\"\n",
    "__docs__ = \"Simulates flying spinning discs.\"\n",
    "```"
   ]
  },
  {
   "cell_type": "code",
   "execution_count": 9,
   "id": "5cd8d190-bb84-4a26-9ace-5c43e0866fcd",
   "metadata": {},
   "outputs": [
    {
     "data": {
      "text/plain": [
       "['Disc',\n",
       " 'EOM',\n",
       " 'Environment',\n",
       " 'Model',\n",
       " 'Trajectory',\n",
       " '__author__',\n",
       " '__builtins__',\n",
       " '__cached__',\n",
       " '__doc__',\n",
       " '__docs__',\n",
       " '__file__',\n",
       " '__loader__',\n",
       " '__name__',\n",
       " '__package__',\n",
       " '__path__',\n",
       " '__spec__',\n",
       " '__version__',\n",
       " 'disc',\n",
       " 'environment',\n",
       " 'equations_of_motion',\n",
       " 'model',\n",
       " 'trajectory']"
      ]
     },
     "execution_count": 9,
     "metadata": {},
     "output_type": "execute_result"
    }
   ],
   "source": [
    "dir (frispy)"
   ]
  },
  {
   "cell_type": "markdown",
   "id": "cf18426a-c919-495c-81dc-90c7b41ddaf3",
   "metadata": {},
   "source": [
    "#### Attributes of Frispy"
   ]
  },
  {
   "cell_type": "code",
   "execution_count": 25,
   "id": "52da7e41-bf25-42d1-8f70-bab1da066212",
   "metadata": {},
   "outputs": [
    {
     "name": "stdout",
     "output_type": "stream",
     "text": [
      "author:  Tom McClintock thmsmcclintock@gmail.com\n",
      "version:  1.0.4\n",
      "docs:  Simulates flying spinning discs.\n"
     ]
    }
   ],
   "source": [
    "print(\"author: \", frispy.__author__)\n",
    "print(\"version: \", frispy.__version__)\n",
    "print(\"docs: \", frispy.__docs__)\n",
    "#print(\"builtins: \", frispy.__builtins__)"
   ]
  },
  {
   "cell_type": "markdown",
   "id": "3f88c4e3-8d1a-4d16-bcbb-14c6939400eb",
   "metadata": {},
   "source": [
    "### Disc\n",
    "\n",
    "The most immediately relevant 'method' is the .compute_trajectory method which \n",
    "\n",
    "\n",
    "#### [Python Dictionaries:](https://realpython.com/python-dicts/)\n",
    "\n",
    "I kept seeing this ```solver_args (Dict[str, Any]): extra arguments to pass``` which says to me that wants the argument (information passed to the 'method') to be in the form of a Dict. Taking a quick read of the link in the title this seems to be asserting that ... "
   ]
  },
  {
   "cell_type": "code",
   "execution_count": 26,
   "id": "1dc79458-a8b3-47c0-9896-db4eee8d8549",
   "metadata": {},
   "outputs": [
    {
     "data": {
      "text/plain": [
       "['__class__',\n",
       " '__delattr__',\n",
       " '__dict__',\n",
       " '__dir__',\n",
       " '__doc__',\n",
       " '__eq__',\n",
       " '__format__',\n",
       " '__ge__',\n",
       " '__getattribute__',\n",
       " '__gt__',\n",
       " '__hash__',\n",
       " '__init__',\n",
       " '__init_subclass__',\n",
       " '__le__',\n",
       " '__lt__',\n",
       " '__module__',\n",
       " '__ne__',\n",
       " '__new__',\n",
       " '__reduce__',\n",
       " '__reduce_ex__',\n",
       " '__repr__',\n",
       " '__setattr__',\n",
       " '__sizeof__',\n",
       " '__str__',\n",
       " '__subclasshook__',\n",
       " '__weakref__',\n",
       " 'compute_trajectory',\n",
       " 'default_initial_conditions',\n",
       " 'environment',\n",
       " 'eom',\n",
       " 'initial_conditions_as_ordered_list',\n",
       " 'model',\n",
       " 'ordered_coordinate_names',\n",
       " 'reset_initial_conditions',\n",
       " 'set_default_initial_conditions',\n",
       " 'trajectory_object']"
      ]
     },
     "execution_count": 26,
     "metadata": {},
     "output_type": "execute_result"
    }
   ],
   "source": [
    "dir(frispy.Disc)"
   ]
  },
  {
   "cell_type": "markdown",
   "id": "5fb27236-f3f3-4f66-9a5c-8db2d573ed0a",
   "metadata": {},
   "source": [
    "### The Environment Module\n",
    "\n",
    "The characteristics of the disc and the air are set in the Environment module. This module is imported into the Disc generation module as baseline data.\n",
    "\n",
    "\"\"\"\n",
    "The ``Environment`` object.\n",
    "\"\"\"\n",
    "\n",
    "from typing import Optional\n",
    "\n",
    "import numpy as np\n",
    "\n",
    "\n",
    "class Environment:\n",
    "    \"\"\"\n",
    "    The environment in which the disc is flying in. This object contains\n",
    "    information on the magnitude and direction of gravity, properties of the\n",
    "    wind, and also intrinsic properties of the disc such as its area and\n",
    "    mass.\n",
    "    Args:\n",
    "        air_density (float): default is 1.225 kg/m^3\n",
    "        area (float): default is 0.057 m^2\n",
    "        g (float): default is 9.81 m/s^2; gravitational acceleration on Earth\n",
    "        grav_vector (Optional[numpy.ndarray]): default is [0,0,-1] if left as\n",
    "            ``None``; is a unit vector.\n",
    "        I_zz (float): default is 0.001219 kg*m^2; z-axis moment of inertia\n",
    "        I_xx (float): default is 0.175 kg*m^2; x and y-axis moments of inertia\n",
    "            (i.e. is the same as I_yy and the cross components I_xy)\n",
    "        mass (float): defualt is 0.175 kg\n",
    "    \"\"\"\n",
    "\n",
    "    def __init__(\n",
    "        self,\n",
    "        air_density: float = 1.225,\n",
    "        area: float = 0.57,\n",
    "        g: float = 9.81,\n",
    "        grav_vector: Optional[np.ndarray] = None,\n",
    "        I_zz: float = 0.002352,\n",
    "        I_xx: float = 0.001219,\n",
    "        mass: float = 0.175,\n",
    "    ):\n",
    "        self._air_density = air_density\n",
    "        self._area = area\n",
    "        self._g = g\n",
    "        self._grav_vector = grav_vector or np.array([0.0, 0.0, -1.0])\n",
    "        self._I_zz = I_zz\n",
    "        self._I_xx = I_xx\n",
    "        self._mass = mass\n",
    "        # Set diameter by hand from area\n",
    "        self._diameter = 2 * (self.area / np.pi) ** 0.5\n",
    "\n",
    "    @property\n",
    "    def air_density(self) -> float:\n",
    "        return self._air_density\n",
    "\n",
    "    @property\n",
    "    def area(self) -> float:\n",
    "        return self._area\n",
    "\n",
    "    @property\n",
    "    def g(self) -> float:\n",
    "        return self._g\n",
    "\n",
    "    @property\n",
    "    def grav_vector(self) -> np.ndarray:\n",
    "        return self._grav_vector\n",
    "\n",
    "    @property\n",
    "    def I_zz(self) -> float:\n",
    "        return self._I_zz\n",
    "\n",
    "    @property\n",
    "    def I_xx(self) -> float:\n",
    "        return self._I_xx\n",
    "\n",
    "    @property\n",
    "    def mass(self) -> float:\n",
    "        return self._mass\n",
    "\n",
    "    @property\n",
    "    def diameter(self) -> float:\n",
    "        return self._diameter\n",
    "\n",
    "    © 2021 GitHub, Inc.\n",
    "    Terms\n",
    "    Privacy\n",
    "    Security\n",
    "    Status\n",
    "    Docs\n"
   ]
  },
  {
   "cell_type": "code",
   "execution_count": 18,
   "id": "93c4e78c-d593-46cf-98ae-f916cf48bd3f",
   "metadata": {},
   "outputs": [
    {
     "data": {
      "text/plain": [
       "dict_keys(['__name__', '__doc__', '__package__', '__loader__', '__spec__', '__path__', '__file__', '__cached__', '__builtins__', 'environment', 'model', 'trajectory', 'equations_of_motion', 'disc', 'Disc', 'Environment', 'EOM', 'Model', 'Trajectory', '__author__', '__version__', '__docs__'])"
      ]
     },
     "execution_count": 18,
     "metadata": {},
     "output_type": "execute_result"
    }
   ],
   "source": []
  },
  {
   "cell_type": "code",
   "execution_count": null,
   "id": "9366f59b-6915-47e6-a1ce-74606ef793d2",
   "metadata": {},
   "outputs": [],
   "source": [
    "initCond = {\n",
    "            \"x\": 0,\n",
    "            \"y\": 2,\n",
    "            \"z\": 1.5,\n",
    "            \"vx\": 10.0,\n",
    "            \"vy\": 0,\n",
    "            \"vz\": 0,\n",
    "            \"phi\": 0,\n",
    "            \"theta\": 0,\n",
    "            \"gamma\": 0,\n",
    "            \"dphi\": 0,\n",
    "            \"dtheta\": 0,\n",
    "            \"dgamma\": 62.0,\n",
    "        }\n"
   ]
  },
  {
   "cell_type": "code",
   "execution_count": 55,
   "id": "ffbb5320-1e41-49bc-b600-942f4c841fc4",
   "metadata": {},
   "outputs": [
    {
     "data": {
      "text/plain": [
       "['__class__',\n",
       " '__delattr__',\n",
       " '__dict__',\n",
       " '__dir__',\n",
       " '__doc__',\n",
       " '__eq__',\n",
       " '__format__',\n",
       " '__ge__',\n",
       " '__getattribute__',\n",
       " '__gt__',\n",
       " '__hash__',\n",
       " '__init__',\n",
       " '__init_subclass__',\n",
       " '__le__',\n",
       " '__lt__',\n",
       " '__module__',\n",
       " '__ne__',\n",
       " '__new__',\n",
       " '__reduce__',\n",
       " '__reduce_ex__',\n",
       " '__repr__',\n",
       " '__setattr__',\n",
       " '__sizeof__',\n",
       " '__str__',\n",
       " '__subclasshook__',\n",
       " '__weakref__',\n",
       " 'compute_trajectory',\n",
       " 'default_initial_conditions',\n",
       " 'environment',\n",
       " 'eom',\n",
       " 'initial_conditions_as_ordered_list',\n",
       " 'model',\n",
       " 'ordered_coordinate_names',\n",
       " 'reset_initial_conditions',\n",
       " 'set_default_initial_conditions',\n",
       " 'trajectory_object']"
      ]
     },
     "execution_count": 55,
     "metadata": {},
     "output_type": "execute_result"
    }
   ],
   "source": [
    "dir (frispy.Disc)"
   ]
  },
  {
   "cell_type": "code",
   "execution_count": 56,
   "id": "1f3f0c35-d246-47a1-8db6-06ac3ee2515e",
   "metadata": {},
   "outputs": [
    {
     "data": {
      "text/plain": [
       "['__annotations__',\n",
       " '__call__',\n",
       " '__class__',\n",
       " '__closure__',\n",
       " '__code__',\n",
       " '__defaults__',\n",
       " '__delattr__',\n",
       " '__dict__',\n",
       " '__dir__',\n",
       " '__doc__',\n",
       " '__eq__',\n",
       " '__format__',\n",
       " '__ge__',\n",
       " '__get__',\n",
       " '__getattribute__',\n",
       " '__globals__',\n",
       " '__gt__',\n",
       " '__hash__',\n",
       " '__init__',\n",
       " '__init_subclass__',\n",
       " '__kwdefaults__',\n",
       " '__le__',\n",
       " '__lt__',\n",
       " '__module__',\n",
       " '__name__',\n",
       " '__ne__',\n",
       " '__new__',\n",
       " '__qualname__',\n",
       " '__reduce__',\n",
       " '__reduce_ex__',\n",
       " '__repr__',\n",
       " '__setattr__',\n",
       " '__sizeof__',\n",
       " '__str__',\n",
       " '__subclasshook__']"
      ]
     },
     "execution_count": 56,
     "metadata": {},
     "output_type": "execute_result"
    }
   ],
   "source": [
    "dir(frispy.Disc.set_default_initial_conditions)"
   ]
  },
  {
   "cell_type": "code",
   "execution_count": 57,
   "id": "08b68149-3453-4014-91d0-653d16afd758",
   "metadata": {},
   "outputs": [
    {
     "name": "stdout",
     "output_type": "stream",
     "text": [
      "Help on class Disc in module frispy.disc:\n",
      "\n",
      "class Disc(builtins.object)\n",
      " |  Disc(model: Union[frispy.model.Model, NoneType] = None, eom: Union[frispy.equations_of_motion.EOM, NoneType] = None, initial_conditions: Union[Dict[str, float], NoneType] = None)\n",
      " |  \n",
      " |  Flying spinning disc object. The disc object contains only physical\n",
      " |  parameters of the disc and environment that it exists (e.g. gravitational\n",
      " |  acceleration and air density). Note that the default area, mass, and\n",
      " |  inertial moments are for Discraft Ultrastars (175 grams or 0.175 kg).\n",
      " |  \n",
      " |  All masses are kg, lengths are meters (m) and times are seconds (s). That\n",
      " |  is, these files all use `mks` units. Angular units use radians (rad), and\n",
      " |  angular velocities are in rad/s.\n",
      " |  \n",
      " |  Args:\n",
      " |    eom (EOM, optional): the equations of motion\n",
      " |    initial_conditions (Dict, optional): initial conditions of the disc in\n",
      " |      flight units are in in \"mks\" and angles are in radians. By defualt,\n",
      " |      the initial conditions will be that the disc is 1 meter off the\n",
      " |      ground (`z=1`), moving at 10 meters/sec in the `x` direction\n",
      " |      (`vx=10`) and is spinning about it's vertical axis at approximately\n",
      " |      10 revolutions per second (approx. 62 rad/sec, or `dgamma=62`).\n",
      " |      All other kinematic variables are set to 0. This configuration\n",
      " |      results in an angle of attack of 0.\n",
      " |  \n",
      " |  Methods defined here:\n",
      " |  \n",
      " |  __init__(self, model: Union[frispy.model.Model, NoneType] = None, eom: Union[frispy.equations_of_motion.EOM, NoneType] = None, initial_conditions: Union[Dict[str, float], NoneType] = None)\n",
      " |      Initialize self.  See help(type(self)) for accurate signature.\n",
      " |  \n",
      " |  compute_trajectory(self, flight_time: float = 3.0, return_scipy_results: bool = False, **solver_kwargs)\n",
      " |      Call the differential equation solver to compute\n",
      " |      the trajectory. The kinematic variables and timesteps are saved\n",
      " |      as the `current_trajectory` attribute, which is a dictionary,\n",
      " |      which is also returned by this function.\n",
      " |      \n",
      " |      See `these scipy docs <https://docs.scipy.org/doc/scipy/reference/generated/scipy.integrate.solve_ivp.html#scipy.integrate.solve_ivp>`_\n",
      " |      for more information on the solver.\n",
      " |      \n",
      " |      .. todo::\n",
      " |      \n",
      " |         Type this correctly.\n",
      " |      \n",
      " |      .. warning::\n",
      " |      \n",
      " |         You cannot pass a `flight_time` if `t_span` is a key in\n",
      " |         `solver_args`.\n",
      " |      \n",
      " |      Args:\n",
      " |        flight_time (float, optional): time in seconds that the simulation\n",
      " |          will run over. Default is 3 seconds.\n",
      " |        return_scipy_results (bool, optional): Default is `False`. Flag to\n",
      " |          indicate whether to return the full results object of the solver.\n",
      " |          See the scipy docs for more information.\n",
      " |        solver_args (Dict[str, Any]): extra arguments to pass\n",
      " |          to the :meth:`scipy.integrate.solver_ivp` method used to solve\n",
      " |          the differential equation.\n",
      " |  \n",
      " |  reset_initial_conditions(self) -> None\n",
      " |      Set the initial_conditions of the disc to the default and\n",
      " |      clear the trajectory.\n",
      " |  \n",
      " |  set_default_initial_conditions(self, initial_conditions: Union[Dict[str, float], NoneType]) -> None\n",
      " |  \n",
      " |  ----------------------------------------------------------------------\n",
      " |  Readonly properties defined here:\n",
      " |  \n",
      " |  default_initial_conditions\n",
      " |  \n",
      " |  environment\n",
      " |  \n",
      " |  eom\n",
      " |  \n",
      " |  initial_conditions_as_ordered_list\n",
      " |  \n",
      " |  model\n",
      " |  \n",
      " |  ordered_coordinate_names\n",
      " |  \n",
      " |  trajectory_object\n",
      " |  \n",
      " |  ----------------------------------------------------------------------\n",
      " |  Data descriptors defined here:\n",
      " |  \n",
      " |  __dict__\n",
      " |      dictionary for instance variables (if defined)\n",
      " |  \n",
      " |  __weakref__\n",
      " |      list of weak references to the object (if defined)\n",
      "\n"
     ]
    }
   ],
   "source": [
    "help(frispy.Disc)"
   ]
  },
  {
   "cell_type": "code",
   "execution_count": 58,
   "id": "7cc95a84-7095-41c0-a651-0e4efcc15dbf",
   "metadata": {},
   "outputs": [
    {
     "name": "stdout",
     "output_type": "stream",
     "text": [
      "Help on class Trajectory in module frispy.trajectory:\n",
      "\n",
      "class Trajectory(builtins.object)\n",
      " |  Trajectory(**kwargs)\n",
      " |  \n",
      " |  Class for computing the disc flight trajectory. Takes initial values\n",
      " |  and interfaces with an ODE solver.\n",
      " |  \n",
      " |  Units are meters [m] for length, kilograms [kg] for mass, seconds [s]\n",
      " |  for time, and radians [rad] for angles.\n",
      " |  \n",
      " |  Args:\n",
      " |      x (float): horizontal position; default is 0 m\n",
      " |      y (float): horizontal position; default is 0 m\n",
      " |      z (float): vertical position; default is 1 m\n",
      " |      vx (float): x-velocity; default is 10 m/s\n",
      " |      vy (float): y-velocity; default is 0 m/s\n",
      " |      vz (float): z-velocity; default is 0 m/s\n",
      " |      phi (float): 1st Euler angle (pitch); default is 0 rad\n",
      " |      theta (float): 2nd Euler angle (roll); default is 0 rad\n",
      " |      gamma (float): 3rd Euler angle (spin); default is 0 rad\n",
      " |      phidot (float): phi angular velocity; default is 0 rad/s\n",
      " |      thetadot (float): theta angular velocity; default is 0 rad/s\n",
      " |      gammadot (float): gamma angular velocity; default is 50 rad/s\n",
      " |  \n",
      " |  Methods defined here:\n",
      " |  \n",
      " |  __init__(self, **kwargs)\n",
      " |      Initialize self.  See help(type(self)) for accurate signature.\n",
      " |  \n",
      " |  calculate_intermediate_quantities(self, phi: float, theta: float, velocity: numpy.ndarray, ang_velocity: numpy.ndarray) -> Dict[str, Union[float, numpy.ndarray, Dict[str, numpy.ndarray]]]\n",
      " |      Compute intermediate quantities on the way to computing the time\n",
      " |      derivatives of the kinematic variables.\n",
      " |      \n",
      " |      Args:\n",
      " |      TODO\n",
      " |  \n",
      " |  ----------------------------------------------------------------------\n",
      " |  Static methods defined here:\n",
      " |  \n",
      " |  rotation_matrix(phi: float, theta: float) -> numpy.ndarray\n",
      " |      Compute the (partial) rotation matrix that transforms from the\n",
      " |      lab frame to the disc frame. Note that because of azimuthal\n",
      " |      symmetry, the azimuthal angle (`gamma`) is not used.\n",
      " |  \n",
      " |  ----------------------------------------------------------------------\n",
      " |  Readonly properties defined here:\n",
      " |  \n",
      " |  initial_conditions\n",
      " |  \n",
      " |  initial_conditions_array\n",
      " |  \n",
      " |  velocity\n",
      " |      Velocity vector [m/s].\n",
      " |  \n",
      " |  ----------------------------------------------------------------------\n",
      " |  Data descriptors defined here:\n",
      " |  \n",
      " |  __dict__\n",
      " |      dictionary for instance variables (if defined)\n",
      " |  \n",
      " |  __weakref__\n",
      " |      list of weak references to the object (if defined)\n",
      "\n"
     ]
    }
   ],
   "source": [
    "help(frispy.Trajectory)"
   ]
  },
  {
   "cell_type": "code",
   "execution_count": 59,
   "id": "8b783b0d-4d18-45dd-9731-b4dfe923d617",
   "metadata": {},
   "outputs": [
    {
     "name": "stdout",
     "output_type": "stream",
     "text": [
      "Help on package frispy:\n",
      "\n",
      "NAME\n",
      "    frispy\n",
      "\n",
      "PACKAGE CONTENTS\n",
      "    disc\n",
      "    environment\n",
      "    equations_of_motion\n",
      "    model\n",
      "    trajectory\n",
      "    wind\n",
      "\n",
      "DATA\n",
      "    __docs__ = 'Simulates flying spinning discs.'\n",
      "\n",
      "VERSION\n",
      "    1.0.4\n",
      "\n",
      "AUTHOR\n",
      "    Tom McClintock thmsmcclintock@gmail.com\n",
      "\n",
      "FILE\n",
      "    /Users/bruceemerson/opt/anaconda3/lib/python3.8/site-packages/frispy/__init__.py\n",
      "\n",
      "\n"
     ]
    }
   ],
   "source": [
    "help(frispy)"
   ]
  },
  {
   "cell_type": "code",
   "execution_count": 60,
   "id": "94b13de7-13ff-407e-aa24-de65768b8afb",
   "metadata": {},
   "outputs": [
    {
     "data": {
      "image/png": "[encoded data removed]",
      "text/plain": [
       "<Figure size 432x288 with 1 Axes>"
      ]
     },
     "metadata": {
      "needs_background": "light"
     },
     "output_type": "display_data"
    }
   ],
   "source": [
    "import matplotlib.pyplot as plt\n",
    "\n",
    "plt.plot(x, z)\n",
    "plt.show()"
   ]
  },
  {
   "cell_type": "code",
   "execution_count": null,
   "id": "70aad844-6566-4b43-9c85-6d5547a836a4",
   "metadata": {},
   "outputs": [],
   "source": []
  },
  {
   "cell_type": "code",
   "execution_count": null,
   "id": "9fb49106-e7b1-4e81-ac99-41dde727b9f7",
   "metadata": {},
   "outputs": [],
   "source": []
  }
 ],
 "metadata": {
  "kernelspec": {
   "display_name": "Python 3 (ipykernel)",
   "language": "python",
   "name": "python3"
  },
  "language_info": {
   "codemirror_mode": {
    "name": "ipython",
    "version": 3
   },
   "file_extension": ".py",
   "mimetype": "text/x-python",
   "name": "python",
   "nbconvert_exporter": "python",
   "pygments_lexer": "ipython3",
   "version": "3.8.11"
  }
 },
 "nbformat": 4,
 "nbformat_minor": 5
}
