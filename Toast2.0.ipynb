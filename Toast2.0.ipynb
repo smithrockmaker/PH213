{
 "cells": [
  {
   "cell_type": "markdown",
   "metadata": {},
   "source": [
    "# PH213 Project Demonstration: Toast Falling from Counter\n",
    "## Basic model (no iterations)\n",
    "## 9/10/20\n"
   ]
  },
  {
   "cell_type": "markdown",
   "metadata": {},
   "source": [
    "## The Problem\n",
    "\n",
    "The basic problem is this. When toast teeters off the edge of a standard counter it seems to, remarkably consistently, land 'jelly side' down. I have read that this is no accident and that in fact the solution to the problem is to push the toast when you notice it going off the edge rather than try to stop it. I have done some loose experiments and find this to be empirically true. You should try it yourself and you can use a book if you don't want to waste a piece of toast. Now -- can I use basic dynamics and an numerical approach to explore this problem without getting caught up the analytic solution to the problem documented in various places in AJP. "
   ]
  },
  {
   "cell_type": "markdown",
   "metadata": {},
   "source": [
    "### Dependencies\n",
    "\n",
    "These are the baseline dependencies that we have used in past notebooks. \n",
    "\n",
    "Here are the reference sites for [`matplotlib`](https://matplotlib.org/) and [`numpy`](http://www.numpy.org/)"
   ]
  },
  {
   "cell_type": "code",
   "execution_count": 11,
   "metadata": {},
   "outputs": [],
   "source": [
    "%matplotlib inline\n",
    "import matplotlib.pyplot as plt\n",
    "import numpy as np"
   ]
  },
  {
   "cell_type": "markdown",
   "metadata": {},
   "source": [
    "## Defining constants\n",
    "\n",
    "In this problem it seems prudent to allow for a variety of 'toast' like objects of different materials and sizes. To that end I want to establish a set of constants that describe the particular setting I am considering. Note that I am working in cm and s for convenience which may turn out to be a bad idea.\n",
    "\n",
    "tlength (parallel to table edge - cm)   \n",
    "twidth  (perpendicular to table edge - cm)   \n",
    "tthick (yup - cm)   \n",
    "tdensity (in case it matters - gr/cm<sup>3</sup>    \n",
    "counterheight ( in cm)  \n",
    "latspeed  ( cm/s)  \n",
    "gravity  (cm/s<sup>2</sup>)   \n",
    "anglimit (radians - generally set to $\\pi/2$ but could be different)\n",
    "\n",
    "## Rock Drop Calculation\n",
    "Regardless of what else it's doing a physical object under the influence of gravity falls like a rock even if it's rotating as it does so. Think of this as squeezing the toast into a small ball of the same mass as rolling it off the edge.  \n",
    "\n",
    "A quick calculation I should do as soon as these constants are established is calculate the time it take for the toast to fall from the counterheight to the floor. This is essentially a calculation we have done in lab and is given by some form of kinematic analysis and yields\n",
    "\n",
    "$\\Large time_{fall} = \\sqrt{\\frac{2*h}{g}}$\n",
    "\n",
    "From a standard counter this should yield around 0.45 s. As I go along I check each number that results against a quick manual calculation to check moth units and magnitude.\n"
   ]
  },
  {
   "cell_type": "markdown",
   "metadata": {},
   "source": [
    "## Problem Geometry\n",
    "\n",
    "Here's a drawing with the labels that represent my current thinking.\n",
    "\n",
    "<img src=\"images/toastBasic.png\" alt=\"Geometric Diagram\" title=\"Toast Sketch\" />"
   ]
  },
  {
   "cell_type": "code",
   "execution_count": 12,
   "metadata": {},
   "outputs": [
    {
     "name": "stdout",
     "output_type": "stream",
     "text": [
      "The time to fall to the floor from the counter is 0.4515 seconds\n"
     ]
    }
   ],
   "source": [
    "tlength = 10.0\n",
    "twidth = 10.0\n",
    "tthick = 1.0\n",
    "tdensity = 0.45\n",
    "counterheight = 100.0\n",
    "latspeed = 0.0\n",
    "gravity = 981.0\n",
    "anglimit = np.pi/2\n",
    "\n",
    "\n",
    "floortime = np.sqrt([2.0*counterheight/gravity])\n",
    "print(\"The time to fall to the floor from the counter is %.4f seconds\" % (floortime))"
   ]
  },
  {
   "cell_type": "markdown",
   "metadata": {},
   "source": [
    "## Physics Background\n",
    "## Newton's 2nd Law (Rotational)\n",
    "\n",
    "Something we often don't get to in PH211 is the rotational version of Newton's Laws. This will come up in ENGR 211 (Statics) and historically students make the transition pretty successfully. The core concept is that linear forces and rotational forces (torques) act independently to determine the behavior of an object. Point masses that we talked about most of the time in PH211 have no physical size so you can't rotate them. Toast on the other hand does have physical size and so we must consider both linear and rotational motion. The 30 second lecture about this is that every linear variable we discussed (x, v, and a and the components of each in the i,j, and k directions) has an angular equivalent. This table summarizes those equivalents:\n",
    "\n",
    "x (position) -- $\\theta$ (angular position), measured in radians.  \n",
    "v (velocity) -- $\\omega$ (angular velocity), which we ran into in circular motion and is measured in radians/s  \n",
    "a (acceleration) -- $\\alpha$ (angular acceleration), measured in (radians/s)/s  \n",
    "\n",
    "You would not be surprised that all of our kinematic equations have exact equivalents for angular motion -- remember the kinematics equations are just descriptions of different plots and all I do is change the labels on the plot and we're done. So we get...  \n",
    "\n",
    "$x(t) = x_0 + v*t$  \n",
    "becomes   \n",
    "$\\theta (t) = \\theta_0 + \\omega * t$  \n",
    "for constant linear or angular velocity.   \n"
   ]
  },
  {
   "cell_type": "markdown",
   "metadata": {},
   "source": [
    "## Proof of Principle\n",
    "\n",
    "My usual process is to try to code a 'simple' version of the problem before getting carried away. The intention is to keep it simple enough that I can manually check numbers to make sure I've got the units right. At the same time I try to establish whether the numbers I'm getting make sense based on experience or observation. Once I seem to be able to execute the calculations and basic structure seems right then I can try to improve the model one step at a time.\n",
    "\n",
    "## The Setting\n",
    "\n",
    "While the actual problem is what happens when toast slides of a counter a hopefully simple version of the problem is to imagine that the toast is support with 3/4 of it's width off the table and then released. When I do this in my house the toast seems to turn one complete revolution and land jelly side up. If I slide it slowly off the edge it seems to consistently land jelly side down.\n",
    "\n",
    "In this case I want to start out by calculating the moment of inertia of the toast around it's center of mass in appropriate units. \n",
    "\n",
    "Toast is essentially just a book (rectangular box) so it's moment of intertia is   \n",
    "  \n",
    "$I_{toast} = \\frac{1}{12}m a^2$  \n",
    "\n",
    "where a is the side perpendicular to the axis of rotation. The mass is calculated from the density.\n",
    "\n",
    "I added the calculation of the linear density of the toast (gr/cm of width) later when it seemed like this would simplify later calculations. This was not originally what I did."
   ]
  },
  {
   "cell_type": "code",
   "execution_count": null,
   "metadata": {},
   "outputs": [],
   "source": []
  },
  {
   "cell_type": "code",
   "execution_count": 13,
   "metadata": {},
   "outputs": [
    {
     "name": "stdout",
     "output_type": "stream",
     "text": [
      "Inertia around CM: 375.00 gr*cm^2\n",
      "Toast mass (gr): 45.00 gr\n"
     ]
    }
   ],
   "source": [
    "lindensity = tdensity*tlength*tthick  # linear density of toast\n",
    "tmass = lindensity*twidth\n",
    "tinertiacm = tmass*(twidth*twidth)/12.0\n",
    "print (\"Inertia around CM: %.2f gr*cm^2\" % (tinertiacm))\n",
    "print (\"Toast mass (gr): %.2f gr\"% (tmass))"
   ]
  },
  {
   "cell_type": "markdown",
   "metadata": {},
   "source": [
    "## Parallel Axis:\n",
    "\n",
    "As the toast slides over the edge the axis of rotation changes. As a result the moment of interia changes as well. We calculate the moment of inertia around an axis parallel to the axis through the center of mass using the Parallel Axis Theorem (brilliant eh?).\n",
    "\n",
    "I$_{\\parallel} = $I$_{cm} + m d^2$ \n",
    "\n",
    "where m is the total mass of the object and d is the perpendicular distance between the desired axis and the parallel one through the center of mass.\n",
    "\n",
    "Just to test the calculation....we expect the moment of inertia to go up as we move away from the center of mass!"
   ]
  },
  {
   "cell_type": "code",
   "execution_count": 4,
   "metadata": {},
   "outputs": [
    {
     "name": "stdout",
     "output_type": "stream",
     "text": [
      " Inertia around parallel axis is 656.25 gr*cm^2 at a distance of 2.50 cm from cm\n"
     ]
    }
   ],
   "source": [
    "dparallel = twidth/4.0 # this is just a temporary place holder to test the calculation....\n",
    "tparallelI = tinertiacm + tmass*dparallel**2\n",
    "print (\" Inertia around parallel axis is %.2f gr*cm^2 at a distance of %.2f cm from cm\" % (tparallelI, dparallel))"
   ]
  },
  {
   "cell_type": "markdown",
   "metadata": {},
   "source": [
    "## Torque\n",
    "\n",
    "In broad strokes we now have the rotational equivalent of mass in Newton's 2nd Law. Now we need to determine the torque. The toast is always divided into two parts by the edge of the table. If we label the torque created by the overhanging part as positive (+) then the torque created by the portion over the table is (-). For this initial simplistic model I'm assuming the toast is 3/4 of the way off the table. The first term in parentheses is the distance to the center of mass of each part of the toast from the axis of rotation (the edge of the table). The second term in parentheses is the total mass of each section of the toast. The part NOT overhanging is asigned a negative value.\n",
    "\n",
    "```python\n",
    "torquepositive = (overhang*twidth/2)*(tmass*overhang*gravity)\n",
    "torquenegative = -((1.0-overhang)*twidth/2)*(tmass*(1.0-overhang)*gravity)\n",
    "totaltorque = torquepositive+torquenegative\n",
    "```\n",
    "At this time the numbers seem high but I'm not going to worry about it just yet. Manual checking verifies that they are appropriate."
   ]
  },
  {
   "cell_type": "code",
   "execution_count": 5,
   "metadata": {},
   "outputs": [
    {
     "name": "stdout",
     "output_type": "stream",
     "text": [
      "positive torque: 124157.81 gr*cm^2/s^2; negative torque: -13795.31 gr*cm^2/s^2\n",
      "total torque: 110362.50 gr*cm^2/s^2\n"
     ]
    }
   ],
   "source": [
    "overhang = 0.75\n",
    "torquepositive = (overhang*twidth/2.0)*(tmass*overhang*gravity)\n",
    "torquenegative = -((1.0-overhang)*twidth/2)*(tmass*(1.0-overhang)*gravity)\n",
    "totaltorque = torquepositive+torquenegative\n",
    "print (\"positive torque: %.2f gr*cm^2/s^2; negative torque: %.2f gr*cm^2/s^2\" % (torquepositive, torquenegative))\n",
    "print (\"total torque: %.2f gr*cm^2/s^2\" % (totaltorque))"
   ]
  },
  {
   "cell_type": "markdown",
   "metadata": {},
   "source": [
    "## Angular Acceleration\n",
    "\n",
    "Find the angular acceleration $\\alpha$:\n",
    "\n",
    "$\\huge \\frac{\\tau}{I} = \\alpha$\n",
    "\n",
    "Simple right?"
   ]
  },
  {
   "cell_type": "code",
   "execution_count": 6,
   "metadata": {},
   "outputs": [
    {
     "name": "stdout",
     "output_type": "stream",
     "text": [
      "angular acceleration: 168.17 1/s^2\n"
     ]
    }
   ],
   "source": [
    "angularaccel = totaltorque/tparallelI\n",
    "print (\"angular acceleration: %.2f 1/s^2\" % (angularaccel))"
   ]
  },
  {
   "cell_type": "markdown",
   "metadata": {},
   "source": [
    "## Initial Estimate:\n",
    "\n",
    "Given that the toast can only rotate for $\\pi/2$ radians before there is no torque we can estimate how long this acceleration could be applied.\n",
    "\n",
    "$\\theta _{final} = \\theta_{initial} + \\omega_{initial} t + 0.5 \\alpha t^2 $\n",
    "\n",
    "Once the time to turn $/pi/2$ radians is calculated then I can estimate the angular velocity of the toast as it comes off the edge. It will then rotate while it falls to the floor which will take about 0.45 s from a 1 m counter. Later I will need to make this an explict separate calculation. Here goes....."
   ]
  },
  {
   "cell_type": "code",
   "execution_count": 7,
   "metadata": {},
   "outputs": [
    {
     "name": "stdout",
     "output_type": "stream",
     "text": [
      "Estimated time to pi/2 rotation: 0.1367 \n"
     ]
    }
   ],
   "source": [
    "angposinit = 0.0\n",
    "angposfinal = np.pi/2\n",
    "angvelinit = 0.0\n",
    "timetohalfpi = np.sqrt([angposfinal*2/angularaccel])\n",
    "print (\"Estimated time to pi/2 rotation: %.4f \" %(timetohalfpi))"
   ]
  },
  {
   "cell_type": "code",
   "execution_count": 8,
   "metadata": {},
   "outputs": [
    {
     "name": "stdout",
     "output_type": "stream",
     "text": [
      "Estimated angular velocity at pi/2 rotation: 22.9853 (rad/s)\n"
     ]
    }
   ],
   "source": [
    "angvelfinal = angvelinit + angularaccel*timetohalfpi\n",
    "print (\"Estimated angular velocity at pi/2 rotation: %.4f (rad/s)\" %(angvelfinal))"
   ]
  },
  {
   "cell_type": "code",
   "execution_count": 9,
   "metadata": {},
   "outputs": [
    {
     "name": "stdout",
     "output_type": "stream",
     "text": [
      "Estimated rotation at floor after fall time 0.450 (s): 10.3434 (rad)\n"
     ]
    }
   ],
   "source": [
    "floortime = 0.45\n",
    "angposfloor = angvelfinal*floortime\n",
    "print (\"Estimated rotation at floor after fall time %.3f (s): %.4f (rad)\" %(floortime,angposfloor))"
   ]
  },
  {
   "cell_type": "markdown",
   "metadata": {},
   "source": [
    "## Proof of Concept Analysis\n",
    "\n",
    "Jelly side or not?\n",
    "\n",
    "If the rotation when it gets to the floor is more than $\\pi/2$ and less than $3 \\pi/2$ then one would expect the toast to settle jelly side down. If it is within 5% of $\\pi$ radians I would call it a perfect splat!\n",
    "\n",
    "If it rotates more than $3 \\pi/2$ then it becomes complicated. The fact that my test case gave me 10 radians (1 1/2 rotations) could give me pause but in thinking about it I have assumed that the angular acceleration is constant while the toast rotates which is clearly not the case. As the toast rotates the net torque is constantly dropping which is reducing the angular acceleration. This effect would lead to less rotation which seems satisfying.\n",
    "\n",
    "## Next step....\n",
    "\n",
    "Its always tempting to jump right to the actual problem and there are certainly people who can pull that off. My thesis advisor was someone who could write code like writing a paragraph and it nearly always worked. I'm not that smart so I have to sneak up on it. It seems to me the next helpful step is to sort out how to model the changing angular acceleration as the toast rotates.\n",
    "\n",
    "### Continue on to Toast2.1....\n",
    "\n"
   ]
  },
  {
   "cell_type": "code",
   "execution_count": null,
   "metadata": {},
   "outputs": [],
   "source": []
  },
  {
   "cell_type": "code",
   "execution_count": null,
   "metadata": {},
   "outputs": [],
   "source": []
  }
 ],
 "metadata": {
  "kernelspec": {
   "display_name": "Python 3",
   "language": "python",
   "name": "python3"
  },
  "language_info": {
   "codemirror_mode": {
    "name": "ipython",
    "version": 3
   },
   "file_extension": ".py",
   "mimetype": "text/x-python",
   "name": "python",
   "nbconvert_exporter": "python",
   "pygments_lexer": "ipython3",
   "version": "3.8.3"
  }
 },
 "nbformat": 4,
 "nbformat_minor": 4
}
