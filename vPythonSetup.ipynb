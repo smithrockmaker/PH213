{
 "cells": [
  {
   "cell_type": "markdown",
   "metadata": {},
   "source": [
    "# Setting up vPython in Jupyterlab\n",
    "\n",
    "## Version Compatibility\n",
    "\n",
    "At this time (10/20) vPython appears to be compatible with verisons of Jupyterlab through 1.2.6. You may need to remove your current install of Jupyterlab to do this. To install specific versions of Jupyterlab (and remove the application) go to the settings icon in the top right corner of the Jupyterlab frame on the Home tab in Anaconda Navigator.\n",
    "\n",
    "![github menu](images/ChooseVersion.png)\n",
    "![github menu](images/VersionMenu.png)  \n",
    "\n",
    "The most effective instructions I have found for installing vpython in a Jupyterlab environment are [here - thanks to Bruce Sherwood](https://www.vpython.org/presentation2018/install.html). Here are the principle steps in that process.\n",
    "\n",
    "Preparation: Launch Juypterlab from Anaconda Navigator which should open a window in your browser.\n",
    "\n",
    "i: Update python by going to the Environments tab on Anaconda Navigator. Choose to display the Installed environments and scroll down to find your python package. To the right is a column which indicates the version number. If there is a blue arrow there indicating an update to the package you can click to install. At the time of this document my python version was 3.8.3.\n",
    "\n",
    "![github menu](images/pythonupdate.png)  \n",
    "\n",
    "ii: From the File drop down menu (in the Jupyterlab tab on your browser) select New Launcher and launch a Terminal window.\n",
    "\n",
    "![github menu](images/Filedropdown.png)\n",
    "\n",
    "![github menu](images/terminalwindow.png)\n",
    "\n",
    "iii: In that terminal window you will execute the following commands (from the document linked above). Anaconda will sort out what needs to be installed and updated. For the two installs it will ask you if you want to proceed at some point and you need to enter y (y/n are options).\n",
    "\n",
    "```conda install -c vpython vpython```   \n",
    "```conda install -c anaconda nodejs``` \n",
    "\n",
    "![github menu](images/condacommand.png)\n",
    "\n",
    "iv: Assuming that you get no error messages in the previous installs then the next terminal command is connects vpython to the Jupyterlab environment. \n",
    "\n",
    "```jupyter labextension install vpython```\n",
    "\n",
    "If this labextension install gives you conflicts it may be that your installed version of Jupyterlab is too new.\n",
    "\n",
    "v: From the File drop down menu select Shut Down to exit from Jupyterlab and close the tab in your browser. \n",
    "\n",
    "vi: Relaunch Jupyterlab and the sample vPython code below should execute correctly."
   ]
  },
  {
   "cell_type": "markdown",
   "metadata": {},
   "source": [
    "## Downloading this Notebook\n",
    "\n",
    "If you are reading this notebook you probably found the [github](https://github.com/smithrockmaker/PH213) where it is hosted. Generally one clones the entire github repository but for physics classes we often wish to download only one of the notebooks hosted on the github. Here is the process that appears to work.\n",
    "\n",
    "i: Select the notebook of interest which will be rendered so that you can explore it. \n",
    "ii At the top right of the menu bar is a 'raw' button. 'Right click' on the raw button and select 'Save Link As..'\n",
    "\n",
    "![github menu](images/rawmenu.png)  \n",
    "![github menu](images/rawsaveas.png)\n",
    "\n",
    "iii: The downloaded file will have an .ipynb suffix. To correctly display this page on your computer you will need to got to the images folder on the github and download the relevant images to an appropiate folder."
   ]
  },
  {
   "cell_type": "code",
   "execution_count": 20,
   "metadata": {},
   "outputs": [],
   "source": [
    "from vpython import *"
   ]
  },
  {
   "cell_type": "code",
   "execution_count": 21,
   "metadata": {},
   "outputs": [
    {
     "data": {
      "text/html": [
       "<div id=\"glowscript\" class=\"glowscript\"></div>"
      ],
      "text/plain": [
       "<IPython.core.display.HTML object>"
      ]
     },
     "metadata": {},
     "output_type": "display_data"
    },
    {
     "data": {
      "application/javascript": [
       "if (typeof Jupyter !== \"undefined\") { window.__context = { glowscript_container: $(\"#glowscript\").removeAttr(\"id\")};}else{ element.textContent = ' ';}"
      ],
      "text/plain": [
       "<IPython.core.display.Javascript object>"
      ]
     },
     "metadata": {},
     "output_type": "display_data"
    },
    {
     "name": "stdout",
     "output_type": "stream",
     "text": [
      "t = 0.0 s = <0.5, 0, 0> v = <5.2, 0, 0>\n",
      "t = 0.1 s = <1.02, 0, 0> v = <5.4, 0, 0>\n",
      "t = 0.2 s = <1.56, 0, 0> v = <5.6, 0, 0>\n",
      "t = 0.30000000000000004 s = <2.12, 0, 0> v = <5.8, 0, 0>\n",
      "t = 0.4 s = <2.7, 0, 0> v = <6, 0, 0>\n",
      "t = 0.5 s = <3.3, 0, 0> v = <6.2, 0, 0>\n",
      "t = 0.6 s = <3.92, 0, 0> v = <6.4, 0, 0>\n",
      "t = 0.7 s = <4.56, 0, 0> v = <6.6, 0, 0>\n",
      "t = 0.7999999999999999 s = <5.22, 0, 0> v = <6.8, 0, 0>\n",
      "t = 0.8999999999999999 s = <5.9, 0, 0> v = <7, 0, 0>\n",
      "t = 0.9999999999999999 s = <6.6, 0, 0> v = <7.2, 0, 0>\n",
      "t = 1.0999999999999999 s = <7.32, 0, 0> v = <7.4, 0, 0>\n",
      "t = 1.2 s = <8.06, 0, 0> v = <7.6, 0, 0>\n",
      "t = 1.3 s = <8.82, 0, 0> v = <7.8, 0, 0>\n",
      "t = 1.4000000000000001 s = <9.6, 0, 0> v = <8, 0, 0>\n"
     ]
    }
   ],
   "source": [
    "scene=canvas(title=\"Constant Velocity\",x=0, y=0, width=800,\n",
    "        height=600, autoscale=0, center=vector(0,0,0))\n",
    "t = 0.0\n",
    "dt = .1\n",
    "s = vector(0.0,0.0,0.0)\n",
    "v = vector(5.0,0.0,0.0)\n",
    "a = vector(2.0, 0.0,0.0)\n",
    "cart = sphere(pos=s,radius = .3, color = color.blue)\n",
    "while t < 1.5:\n",
    "    rate(10)\n",
    "    s = s+v*dt\n",
    "    v = v+a*dt\n",
    "    print ('t =',t, 's =',s, 'v =',v)\n",
    "    cart.pos=s\n",
    "    ballghost = sphere(pos=s,radius=.1, color = color.yellow)\n",
    "    t = t + dt"
   ]
  },
  {
   "cell_type": "code",
   "execution_count": null,
   "metadata": {},
   "outputs": [],
   "source": []
  }
 ],
 "metadata": {
  "kernelspec": {
   "display_name": "Python 3",
   "language": "python",
   "name": "python3"
  },
  "language_info": {
   "codemirror_mode": {
    "name": "ipython",
    "version": 3
   },
   "file_extension": ".py",
   "mimetype": "text/x-python",
   "name": "python",
   "nbconvert_exporter": "python",
   "pygments_lexer": "ipython3",
   "version": "3.8.3"
  }
 },
 "nbformat": 4,
 "nbformat_minor": 4
}
