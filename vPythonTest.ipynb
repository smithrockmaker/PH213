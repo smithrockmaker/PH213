{
 "cells": [
  {
   "cell_type": "markdown",
   "metadata": {},
   "source": [
    "# First Experiments with vPython in Jupyterlab\n",
    "\n",
    "# Sphere\n",
    "\n",
    "The most effective instructions I have found for installing vpython in a Jupyterlab environment are [here - thanks to Bruce Sherwood](https://www.vpython.org/presentation2018/install.html) Currently Jupyterlab 1.1.3 seems to play nice with vpython. 2.5 does NOT."
   ]
  },
  {
   "cell_type": "code",
   "execution_count": 6,
   "metadata": {},
   "outputs": [],
   "source": [
    "from vpython import *"
   ]
  },
  {
   "cell_type": "code",
   "execution_count": 10,
   "metadata": {},
   "outputs": [
    {
     "data": {
      "text/html": [
       "<div id=\"glowscript\" class=\"glowscript\"></div>"
      ],
      "text/plain": [
       "<IPython.core.display.HTML object>"
      ]
     },
     "metadata": {},
     "output_type": "display_data"
    },
    {
     "data": {
      "application/javascript": [
       "if (typeof Jupyter !== \"undefined\") { window.__context = { glowscript_container: $(\"#glowscript\").removeAttr(\"id\")};}else{ element.textContent = ' ';}"
      ],
      "text/plain": [
       "<IPython.core.display.Javascript object>"
      ]
     },
     "metadata": {},
     "output_type": "display_data"
    },
    {
     "name": "stdout",
     "output_type": "stream",
     "text": [
      "t = 0.0 s = <0.5, 0, 0> v = <5.2, 0, 0>\n",
      "t = 0.1 s = <1.02, 0, 0> v = <5.4, 0, 0>\n",
      "t = 0.2 s = <1.56, 0, 0> v = <5.6, 0, 0>\n",
      "t = 0.30000000000000004 s = <2.12, 0, 0> v = <5.8, 0, 0>\n",
      "t = 0.4 s = <2.7, 0, 0> v = <6, 0, 0>\n",
      "t = 0.5 s = <3.3, 0, 0> v = <6.2, 0, 0>\n",
      "t = 0.6 s = <3.92, 0, 0> v = <6.4, 0, 0>\n",
      "t = 0.7 s = <4.56, 0, 0> v = <6.6, 0, 0>\n",
      "t = 0.7999999999999999 s = <5.22, 0, 0> v = <6.8, 0, 0>\n",
      "t = 0.8999999999999999 s = <5.9, 0, 0> v = <7, 0, 0>\n",
      "t = 0.9999999999999999 s = <6.6, 0, 0> v = <7.2, 0, 0>\n",
      "t = 1.0999999999999999 s = <7.32, 0, 0> v = <7.4, 0, 0>\n",
      "t = 1.2 s = <8.06, 0, 0> v = <7.6, 0, 0>\n",
      "t = 1.3 s = <8.82, 0, 0> v = <7.8, 0, 0>\n",
      "t = 1.4000000000000001 s = <9.6, 0, 0> v = <8, 0, 0>\n"
     ]
    }
   ],
   "source": [
    "scene=canvas(title=\"Constant Velocity\",x=0, y=0, width=800,\n",
    "        height=600, autoscale=0, center=vector(0,0,0))\n",
    "t = 0.0\n",
    "dt = .1\n",
    "s = vector(0.0,0.0,0.0)\n",
    "v = vector(5.0,0.0,0.0)\n",
    "a = vector(2.0, 0.0,0.0)\n",
    "cart = sphere(pos=s,radius = .3, color = color.blue)\n",
    "while t < 1.5:\n",
    "    rate(10)\n",
    "    s = s+v*dt\n",
    "    v = v+a*dt\n",
    "    print ('t =',t, 's =',s, 'v =',v)\n",
    "    cart.pos=s\n",
    "    ballghost = sphere(pos=s,radius=.1, color = color.yellow)\n",
    "    t = t + dt"
   ]
  },
  {
   "cell_type": "code",
   "execution_count": null,
   "metadata": {},
   "outputs": [],
   "source": []
  }
 ],
 "metadata": {
  "kernelspec": {
   "display_name": "Python 3",
   "language": "python",
   "name": "python3"
  },
  "language_info": {
   "codemirror_mode": {
    "name": "ipython",
    "version": 3
   },
   "file_extension": ".py",
   "mimetype": "text/x-python",
   "name": "python",
   "nbconvert_exporter": "python",
   "pygments_lexer": "ipython3",
   "version": "3.8.3"
  }
 },
 "nbformat": 4,
 "nbformat_minor": 4
}
